{
 "cells": [
  {
   "cell_type": "markdown",
   "metadata": {},
   "source": [
    "# Project 2 (W5FP)\n",
    "\n",
    "This is the guided notebook for the Project 2 . For this notebook, we will be using the Breast Cancer Wisconsin (Original) Data Set from the [UCI Machine Learning Repository](https://archive.ics.uci.edu/ml/machine-learning-databases/breast-cancer-wisconsin/) (Donated by Olvi Mangasarian (mangasarian '@' cs.wisc.edu) and Received by David W. Aha (aha '@' cs.jhu.edu)). You can download from the link above.\n",
    "\n",
    "![Visualization](./images/breast_cancer.jpg)\n",
    "\n",
    "### Data Set Information:\n",
    "\n",
    "Samples arrive periodically as Dr. Wolberg reports his clinical cases. The database therefore reflects this chronological grouping of the data. This grouping information appears immediately below, having been removed from the data itself:\n",
    "\n",
    "Group 1: 367 instances (January 1989)\n",
    "\n",
    "Group 2: 70 instances (October 1989)\n",
    "\n",
    "Group 3: 31 instances (February 1990)\n",
    "\n",
    "Group 4: 17 instances (April 1990)\n",
    "\n",
    "Group 5: 48 instances (August 1990)\n",
    "\n",
    "Group 6: 49 instances (Updated January 1991)\n",
    "\n",
    "Group 7: 31 instances (June 1991)\n",
    "\n",
    "Group 8: 86 instances (November 1991)\n",
    "\n",
    "-----------------------------------------------------------\n",
    "Total: 699 points (as of the donated datbase on 15 July 1992)\n"
   ]
  },
  {
   "cell_type": "markdown",
   "metadata": {},
   "source": [
    "## Part 1: Familiarize Yourself With the Dataset\n",
    "\n",
    "Below is the dataset description from the UCI Machine Learning Repository.\n",
    "\n",
    "\n",
    "|Feature name |Values|\n",
    "|\t----\t|-----------|\n",
    "|\tSample code number\t\t|id number|\n",
    "|\tClump Thickness\t|               1 - 10|\n",
    "|\tUniformity of Cell Size\t|1 - 10|\n",
    "|\tUniformity of Cell Shape\t|1 - 10|\n",
    "|\tMarginal Adhesion|1 - 10|\n",
    "|\tSingle Epithelial Cell Size\t|1 - 10|\n",
    "|\tBare Nuclei\t|1 - 10|\n",
    "|\tBland Chromatin\t|1 - 10|\n",
    "|\tNormal Nucleoli\t|1 - 10|\n",
    "|\tMitoses\t|1 - 10|\n",
    "|\tClass\t|(2 for benign, 4 for malignant)|\n"
   ]
  },
  {
   "cell_type": "markdown",
   "metadata": {},
   "source": [
    "## Loading the data"
   ]
  },
  {
   "cell_type": "code",
   "execution_count": 1,
   "metadata": {},
   "outputs": [],
   "source": [
    "import csv\n",
    "f = open(\"./dataset/breast-cancer-wisconsin-data.csv\")"
   ]
  },
  {
   "cell_type": "markdown",
   "metadata": {},
   "source": [
    "## Cleaning the data"
   ]
  },
  {
   "cell_type": "code",
   "execution_count": 2,
   "metadata": {},
   "outputs": [],
   "source": [
    "dataset = []\n",
    "\n",
    "# As i am not using dictionary set, so i am not appending header to data set.\n",
    "# Mentioning list so that we can get reference any time.\n",
    "header = ['Id number', 'Clump Thickness', 'Cell Size', 'Cell Shape', 'Marginal Adhesion', 'Epithelial Cell Size', 'Bare Nuclei', \n",
    "          'Chromatin', 'Nucleoli', 'Mitoses', 'Class']\n",
    "for l in f:\n",
    "    if '?' in l: # Removing rows containing '?'.\n",
    "        continue\n",
    "    l = l.split(',')\n",
    "    values = [1] + [float(x) for x in l] # Appending column vector of 1 to which act as offset value.\n",
    "    values[-1] = values[-1] > 3 # Converting 'Class' column numeric value to bool.\n",
    "    dataset.append(values)"
   ]
  },
  {
   "cell_type": "code",
   "execution_count": 3,
   "metadata": {},
   "outputs": [
    {
     "data": {
      "text/plain": [
       "683"
      ]
     },
     "execution_count": 3,
     "metadata": {},
     "output_type": "execute_result"
    }
   ],
   "source": [
    "len(dataset) "
   ]
  },
  {
   "cell_type": "markdown",
   "metadata": {},
   "source": [
    "Length of the orignal dataset was 699, after removing rows containing '?' we get length of dataset as 683"
   ]
  },
  {
   "cell_type": "code",
   "execution_count": 4,
   "metadata": {},
   "outputs": [
    {
     "data": {
      "text/plain": [
       "[1, 1000025.0, 5.0, 1.0, 1.0, 1.0, 2.0, 1.0, 3.0, 1.0, 1.0, False]"
      ]
     },
     "execution_count": 4,
     "metadata": {},
     "output_type": "execute_result"
    }
   ],
   "source": [
    "dataset[0]\n",
    "# index 0 of currect dataset"
   ]
  },
  {
   "cell_type": "markdown",
   "metadata": {},
   "source": [
    "### Our dataset contains 1 column which is not relevant. Column[1] ---> Sample code number, this is just random number just like order id which cannot be mapped to the output, so we have delete it from the dataset."
   ]
  },
  {
   "cell_type": "code",
   "execution_count": 5,
   "metadata": {},
   "outputs": [],
   "source": [
    "for j in dataset:\n",
    "    del j[1]"
   ]
  },
  {
   "cell_type": "code",
   "execution_count": 6,
   "metadata": {},
   "outputs": [
    {
     "data": {
      "text/plain": [
       "[1, 5.0, 1.0, 1.0, 1.0, 2.0, 1.0, 3.0, 1.0, 1.0, False]"
      ]
     },
     "execution_count": 6,
     "metadata": {},
     "output_type": "execute_result"
    }
   ],
   "source": [
    "dataset[0]"
   ]
  },
  {
   "cell_type": "markdown",
   "metadata": {},
   "source": [
    "Our new dataset now contain only relevant values"
   ]
  },
  {
   "cell_type": "markdown",
   "metadata": {},
   "source": [
    "## Part 2: Simple Statistics"
   ]
  },
  {
   "cell_type": "markdown",
   "metadata": {},
   "source": [
    "A tumor can be cancerous or benign. A **cancerous** tumor is **malignant**, meaning it can grow and spread to other parts of the body."
   ]
  },
  {
   "cell_type": "code",
   "execution_count": 7,
   "metadata": {},
   "outputs": [
    {
     "name": "stdout",
     "output_type": "stream",
     "text": [
      "Malignant cases = 239\n",
      "Benign cases = 444\n"
     ]
    }
   ],
   "source": [
    "malignant_people = [d[10] for d in dataset if d[10] == True]\n",
    "benign_people = len(dataset) - len(malignant_people)\n",
    "print(\"Malignant cases = \" + str(len(malignant_people))) # malignant\n",
    "print(\"Benign cases = \" + str(benign_people)) # benign"
   ]
  },
  {
   "cell_type": "code",
   "execution_count": 8,
   "metadata": {},
   "outputs": [
    {
     "name": "stdout",
     "output_type": "stream",
     "text": [
      "Average Clump Thickness Rating(Malignant) 7.188284518828452\n",
      "Average Clump Thickness Rating(Benign) 3.869369369369369\n"
     ]
    }
   ],
   "source": [
    "# Clump Thickness\n",
    "# Thickness Rating is abbreviated for TR\n",
    "Average_TR_malignant = sum([d[1] for d in dataset if d[10]==True])/len(malignant_people)\n",
    "Average_TR_benign = sum([d[1] for d in dataset if d[10]==True])/benign_people\n",
    "print(\"Average Clump Thickness Rating(Malignant) \" + str(Average_TR_malignant))\n",
    "print(\"Average Clump Thickness Rating(Benign) \" + str(Average_TR_benign))"
   ]
  },
  {
   "cell_type": "markdown",
   "metadata": {},
   "source": [
    "#### As we can clearly see, Average clump thickness of malignant tumor is way higher than benign tumor."
   ]
  },
  {
   "cell_type": "code",
   "execution_count": 9,
   "metadata": {},
   "outputs": [
    {
     "name": "stdout",
     "output_type": "stream",
     "text": [
      "Average Cell Size Rating(Malignant) 6.577405857740586\n",
      "Average Cell Size Thickness Rating(Benign) 3.5405405405405403\n"
     ]
    }
   ],
   "source": [
    "# Uniformity of Cell Size\n",
    "# Cell Size is abbreviated for CS\n",
    "Average_CS_malignant = sum([d[2] for d in dataset if d[10]==True])/len(malignant_people)\n",
    "Average_CS_benign = sum([d[2] for d in dataset if d[10]==True])/benign_people\n",
    "print(\"Average Cell Size Rating(Malignant) \" + str(Average_CS_malignant))\n",
    "print(\"Average Cell Size Thickness Rating(Benign) \" + str(Average_CS_benign))"
   ]
  },
  {
   "cell_type": "markdown",
   "metadata": {},
   "source": [
    "#### As we can clearly see, Average cell size of malignant tumor is way higher than benign tumor.\n",
    "\n",
    "There is very clear distinction between malignant and benign tumor. As the dataset is fairly straight forward not much statistics about the dataset is needed. "
   ]
  },
  {
   "cell_type": "markdown",
   "metadata": {},
   "source": [
    "## Part 3: Data Visualization"
   ]
  },
  {
   "cell_type": "code",
   "execution_count": 10,
   "metadata": {},
   "outputs": [],
   "source": [
    "import matplotlib.pyplot as plt\n",
    "from matplotlib import colors\n",
    "import numpy\n",
    "from collections import defaultdict\n",
    "from matplotlib.ticker import PercentFormatter\n",
    "%matplotlib inline"
   ]
  },
  {
   "cell_type": "code",
   "execution_count": 11,
   "metadata": {},
   "outputs": [
    {
     "name": "stdout",
     "output_type": "stream",
     "text": [
      "defaultdict(<class 'int'>, {False: 444, True: 239})\n"
     ]
    },
    {
     "data": {
      "image/png": "[encoded data removed]",
      "text/plain": [
       "<Figure size 648x288 with 1 Axes>"
      ]
     },
     "metadata": {
      "needs_background": "light"
     },
     "output_type": "display_data"
    }
   ],
   "source": [
    "# Bar Plot Showing Total Number Of People With Respective Work Fields\n",
    "\n",
    "counts_per_job = [d[10] for d in dataset]\n",
    "\n",
    "counts_j = defaultdict(int)\n",
    "for c in counts_per_job:\n",
    "    counts_j[c] += 1\n",
    "print(counts_j)\n",
    "\n",
    "#Plotting\n",
    "\n",
    "# Figure Size\n",
    "fig, ax = plt.subplots(figsize =(9, 4)) \n",
    "\n",
    "X = list(counts_j.keys())\n",
    "Y = list(counts_j.values())\n",
    "# Horizontal Bar Plot \n",
    "ax.bar(X, Y, color = 'orange')\n",
    "  \n",
    "# Remove axes splines \n",
    "#for s in ['top', 'bottom', 'left', 'right']: \n",
    "#    ax.spines[s].set_visible(False) \n",
    "\n",
    "# Remove x, y Ticks\n",
    "ax.xaxis.set_ticks_position('none') \n",
    "ax.yaxis.set_ticks_position('none') \n",
    "  \n",
    "# Add padding between axes and labels \n",
    "ax.xaxis.set_tick_params(pad = 5) \n",
    "ax.yaxis.set_tick_params(pad = 10) \n",
    "  \n",
    "# Add x, y gridlines \n",
    "ax.grid(b = True, color ='grey', \n",
    "        linestyle ='-.', linewidth = 0.3, \n",
    "        alpha = 0.7)\n",
    "\n",
    "# Show Top Values\n",
    "#ax.invert_yaxis() \n",
    "\n",
    "# Add annotation to bars \n",
    "for i in ax.patches: \n",
    "    plt.text(i.get_width()+0.2, i.get_y()+0.5,  \n",
    "             str(round((i.get_width()), 2)), \n",
    "             fontsize = 10, fontweight ='bold', \n",
    "             color ='grey') \n",
    "    \n",
    "# Add Plot Title\n",
    "ax.set_title('Total no of observations', \n",
    "             loc ='Center', ) \n",
    "  \n",
    "# Show Plot \n",
    "plt.show()"
   ]
  },
  {
   "cell_type": "code",
   "execution_count": 12,
   "metadata": {
    "scrolled": true
   },
   "outputs": [
    {
     "name": "stdout",
     "output_type": "stream",
     "text": [
      "Benign class numbers = 444\n",
      "Malignant class numbers = 239\n"
     ]
    },
    {
     "data": {
      "image/png": "[encoded data removed]",
      "text/plain": [
       "<Figure size 432x288 with 1 Axes>"
      ]
     },
     "metadata": {
      "needs_background": "light"
     },
     "output_type": "display_data"
    }
   ],
   "source": [
    "# Example Stacked Bar Chart - Comparisons Between Cancer Class\n",
    "Benign = len([d[10] for d in dataset if d[10] is False])\n",
    "Malignant = len([d[10] for d in dataset if d[10] is True])\n",
    "index = [1]\n",
    "print(\"Benign class numbers = \" + str(Benign))\n",
    "print(\"Malignant class numbers = \" + str(Malignant))\n",
    "p1 = plt.bar(index, Benign, color='slateblue')\n",
    "p2 = plt.bar(index, Malignant, bottom=Malignant, color='orange')\n",
    "plt.gca().set(title='Benign and Malignant class weightage', ylabel='Total no of observations');\n",
    "plt.xticks([])\n",
    "\n",
    "plt.legend((p1[0], p2[0]), ('Benign', 'Malignant'))\n",
    "plt.show()"
   ]
  },
  {
   "cell_type": "markdown",
   "metadata": {},
   "source": [
    "## Part 4: Applying classification algorithm"
   ]
  },
  {
   "cell_type": "markdown",
   "metadata": {},
   "source": [
    "### Making train and test set from dataset"
   ]
  },
  {
   "cell_type": "code",
   "execution_count": 13,
   "metadata": {},
   "outputs": [
    {
     "data": {
      "text/plain": [
       "LogisticRegression()"
      ]
     },
     "execution_count": 13,
     "metadata": {},
     "output_type": "execute_result"
    }
   ],
   "source": [
    "from sklearn import linear_model\n",
    "model = linear_model.LogisticRegression()\n",
    "\n",
    "import random\n",
    "random.shuffle(dataset)\n",
    "\n",
    "X = [values[:-1] for values in dataset]\n",
    "y = [values[-1] for values in dataset]\n",
    "\n",
    "N = len(X)\n",
    "X_train = X[:N//2]\n",
    "X_test = X[N//2:]\n",
    "y_train = y[:N//2]\n",
    "y_test = y[N//2:]\n",
    "\n",
    "\n",
    "model.fit(X_train, y_train)"
   ]
  },
  {
   "cell_type": "code",
   "execution_count": 14,
   "metadata": {},
   "outputs": [],
   "source": [
    "predictionsTrain = model.predict(X_train)\n",
    "predictionsTest = model.predict(X_test)"
   ]
  },
  {
   "cell_type": "code",
   "execution_count": 15,
   "metadata": {},
   "outputs": [],
   "source": [
    "correctPredictionsTrain = predictionsTrain == y_train\n",
    "correctPredictionsTest = predictionsTest == y_test"
   ]
  },
  {
   "cell_type": "code",
   "execution_count": 16,
   "metadata": {},
   "outputs": [
    {
     "data": {
      "text/plain": [
       "0.9765395894428153"
      ]
     },
     "execution_count": 16,
     "metadata": {},
     "output_type": "execute_result"
    }
   ],
   "source": [
    "sum(correctPredictionsTrain) / len(correctPredictionsTrain) # Train Accuracy"
   ]
  },
  {
   "cell_type": "code",
   "execution_count": 17,
   "metadata": {},
   "outputs": [
    {
     "data": {
      "text/plain": [
       "0.9678362573099415"
      ]
     },
     "execution_count": 17,
     "metadata": {},
     "output_type": "execute_result"
    }
   ],
   "source": [
    "sum(correctPredictionsTest) / len(correctPredictionsTest) # Test Accuracy"
   ]
  },
  {
   "cell_type": "markdown",
   "metadata": {},
   "source": [
    "We got 97.6% Accuracy on train set and 96.8% accuracy on test set which is very good. Also the dataset is fairly straight forward which works very good when applying classification algorithms like LogisticRegression."
   ]
  },
  {
   "cell_type": "code",
   "execution_count": null,
   "metadata": {},
   "outputs": [],
   "source": []
  }
 ],
 "metadata": {
  "kernelspec": {
   "display_name": "Python 3",
   "language": "python",
   "name": "python3"
  },
  "language_info": {
   "codemirror_mode": {
    "name": "ipython",
    "version": 3
   },
   "file_extension": ".py",
   "mimetype": "text/x-python",
   "name": "python",
   "nbconvert_exporter": "python",
   "pygments_lexer": "ipython3",
   "version": "3.6.10"
  }
 },
 "nbformat": 4,
 "nbformat_minor": 4
}
